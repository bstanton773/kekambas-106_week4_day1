{
 "cells": [
  {
   "cell_type": "code",
   "execution_count": 4,
   "id": "f3cb9733",
   "metadata": {},
   "outputs": [
    {
     "name": "stdout",
     "output_type": "stream",
     "text": [
      "camel Casing\n",
      "uncamel This Camel\n",
      "hello World\n",
      "identifier\n",
      "\n"
     ]
    }
   ],
   "source": [
    "# Complete the solution so that the function will break up camel casing, using a space between words. The function will return a new string.\n",
    "\n",
    "# \"camelCasing\"  =>  \"camel Casing\"\n",
    "# \"uncamelThisCamel\"  =>  \"uncamel This Camel\"\n",
    "# \"helloWorld\"   =>  \"hello World\"\n",
    "# \"identifier\"   =>  \"identifier\"\n",
    "# \"\"             =>  \"\"\n",
    "\n",
    "\n",
    "def break_camel(string):\n",
    "    new_string = ''\n",
    "    for letter in string:\n",
    "        if letter.isupper():\n",
    "            new_string += ' '\n",
    "        new_string += letter\n",
    "    return new_string\n",
    "\n",
    "\n",
    "print(break_camel(\"camelCasing\"))\n",
    "print(break_camel(\"uncamelThisCamel\"))\n",
    "print(break_camel(\"helloWorld\"))\n",
    "print(break_camel(\"identifier\"))\n",
    "print(break_camel(\"\"))"
   ]
  },
  {
   "cell_type": "code",
   "execution_count": 5,
   "id": "45999e15",
   "metadata": {},
   "outputs": [
    {
     "name": "stdout",
     "output_type": "stream",
     "text": [
      "Help on method_descriptor:\n",
      "\n",
      "replace(self, old, new, count=-1, /)\n",
      "    Return a copy with all occurrences of substring old replaced by new.\n",
      "    \n",
      "      count\n",
      "        Maximum number of occurrences to replace.\n",
      "        -1 (the default value) means replace all occurrences.\n",
      "    \n",
      "    If the optional argument count is given, only the first count occurrences are\n",
      "    replaced.\n",
      "\n"
     ]
    }
   ],
   "source": [
    "help(str.replace)"
   ]
  },
  {
   "cell_type": "code",
   "execution_count": 7,
   "id": "bf34b11c",
   "metadata": {},
   "outputs": [
    {
     "data": {
      "text/plain": [
       "<str_iterator at 0x256903f77f0>"
      ]
     },
     "execution_count": 7,
     "metadata": {},
     "output_type": "execute_result"
    }
   ],
   "source": [
    "my_string = \"hello\"\n",
    "\n",
    "my_string_iter = iter(my_string)\n",
    "\n",
    "my_string_iter"
   ]
  },
  {
   "cell_type": "code",
   "execution_count": 13,
   "id": "581ab4b8",
   "metadata": {},
   "outputs": [
    {
     "ename": "StopIteration",
     "evalue": "",
     "output_type": "error",
     "traceback": [
      "\u001b[1;31m---------------------------------------------------------------------------\u001b[0m",
      "\u001b[1;31mStopIteration\u001b[0m                             Traceback (most recent call last)",
      "\u001b[1;32m~\\AppData\\Local\\Temp\\ipykernel_19088\\2336057621.py\u001b[0m in \u001b[0;36m<module>\u001b[1;34m\u001b[0m\n\u001b[1;32m----> 1\u001b[1;33m \u001b[0mnext\u001b[0m\u001b[1;33m(\u001b[0m\u001b[0mmy_string_iter\u001b[0m\u001b[1;33m)\u001b[0m\u001b[1;33m\u001b[0m\u001b[1;33m\u001b[0m\u001b[0m\n\u001b[0m",
      "\u001b[1;31mStopIteration\u001b[0m: "
     ]
    }
   ],
   "source": [
    "next(my_string_iter)"
   ]
  }
 ],
 "metadata": {
  "kernelspec": {
   "display_name": "Python 3 (ipykernel)",
   "language": "python",
   "name": "python3"
  },
  "language_info": {
   "codemirror_mode": {
    "name": "ipython",
    "version": 3
   },
   "file_extension": ".py",
   "mimetype": "text/x-python",
   "name": "python",
   "nbconvert_exporter": "python",
   "pygments_lexer": "ipython3",
   "version": "3.9.13"
  }
 },
 "nbformat": 4,
 "nbformat_minor": 5
}
